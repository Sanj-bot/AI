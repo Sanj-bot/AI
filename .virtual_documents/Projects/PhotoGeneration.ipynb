


pip install tensorflow-datasets


pip install ipywidgets


pip list


pip install tensorflow


#bringing in tensorflow
import tensorflow as tf
gpus=tf.config.experimental.list_physical_devices('GPU')
for gpu in gpus:
    tf.config.experimental.set_memory_growth(gpu,True)


for gpu in gpus:
    print(gpu)
print("gpu")



