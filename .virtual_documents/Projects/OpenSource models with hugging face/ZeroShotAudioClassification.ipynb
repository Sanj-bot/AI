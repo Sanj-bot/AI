!pip install transformers
!pip install datasets
!pip install soundfile
!pip install librosa


from datasets import load_dataset
dataset=load_dataset("ashraq/esc50",split="train[0:10]")


audio_sample=dataset[0]


audio_sample


print(audio_sample)


print("hello")






