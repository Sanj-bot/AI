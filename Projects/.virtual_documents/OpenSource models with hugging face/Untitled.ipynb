!pip install transformers
!pip install datasets
!pip install soundfile
!pip install librosa


from datasets import load_dataset
dataset=load_dataset("ashraq/
