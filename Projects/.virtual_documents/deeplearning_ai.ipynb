from transformers import pipeline


!pip install transformers


chatbot=pipeline(task="conversational",model="facebook/blenderbot-400M-distill")


user_message="""
What is food?
"""


from transformers import Conversation


conversation=Conversation(user_message)



print(conversation)


conversation=chatbot(conversation)


print(conversation)


print(chatbot(Conversation("What else do u recommend?")))





#memory


conversation.add_message({"role":"user","content":"""what else do u recommend?"""})


print(conversation)


#NLP is field of field of ml and linguistics.
#common NLP tasks:
# text generation, sentence similarity, summarization, machine translation.



print(chatbot(Conversation("What else do you recommend?")))


print(chatbot(Conversation(input())))


while True:
  print(chatbot(Conversation(input())))






