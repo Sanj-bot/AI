from transformers import pipeline


!pip install transformers


chatbot=pipeline(task="conversational",model="facebook/blenderbot-400M-distill")


user_message="""
What is food?
"""


from transformers import Conversation


conversation=Conversation(user_message)



print(conversation)


conversation=chatbot(conversation)


print(conversation)


print(chatbot(Conversation("What else do u recommend?")))





#memory


conversation.add_message({"role":"user","content":"""what else do u recommend?"""})


print(conversation)


#NLP is field of field of ml and linguistics.
#common NLP tasks:
# text generation, sentence similarity, summarization, machine translation.



print(chatbot(Conversation("What else do you recommend?")))


print(chatbot(Conversation(input())))


while True:
  print(chatbot(Conversation(input())))





pip install torch


import torch


translator=pipeline(task="translation",model="facebook/nllb-200-distilled-600M", torch_dtype=torch.bfloat16)


text = """\
My puppy is adorable,\
your kitten is cute.
her panda is friendly.
His llama is thoughtful, \
we all have nice pets !"""



text_translated=translator((text),src_lang="eng_Latn",
                                 tgt_lang="fra_Latn")


print(text_translated)


import gc



del translator


gc.collect()


summarizer=pipeline(task="summarization",model="facebook/bart-large-cnn",torch_dtype=torch.bfloat16)


text="The City of Paris is the centre of the Île-de-France region, or Paris Region, with an official estimated population of 12,271,794 inhabitants on 1 January 2023, or about 19% of the population of France.[2] The Paris Region had a GDP of €765 billion (US$1.064 trillion, PPP)[8] in 2021, the highest in the European Union.[9] According to the Economist Intelligence Unit Worldwide Cost of Living Survey, in 2022, Paris was the city with the ninth-highest cost of living in the world"


summary=summarizer(text,max_length=100,min_length=10)


print(summary)





pip install sentence_transformers


import sentence_transformers
from sentence_transformers import SentenceTransformer


model=SentenceTransformer("all-MiniLM-L6-v2")


sentences1=['The cat sits outside',
            'A man is playing guitar',
            'The movies are awesome']


embeddings1=model.encode(sentences1,convert_to_tensor=True)


embeddings1


sentences2=['The dog plays in the garden',
            'A woman watches TV',
            ' The new movie is so great']


embeddings2=model.encode(sentences2,convert_to_tensor=True)


embeddings2


from sentence_transformers import util


cosine_scores=util.cos_sim(embeddings1,embeddings2)


print(cosine_scores)


for x in range(len(cosine_scores)):
  for y in range(len(cosine_scores)):
    a=float(cosine_scores[x][y])
print(a)



cosine_scores.float()



print(cosine_scores)





for i in range(len(sentences1)):
    print("{} \t\t {} \t\t Score: {:.4f}".format(sentences1[i],
                                                 sentences2[i],
                                                 cosine_scores[i][i]))
