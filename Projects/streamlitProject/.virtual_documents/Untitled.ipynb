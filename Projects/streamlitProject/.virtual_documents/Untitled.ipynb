import plotly.graph_objects as go # pip install plotly


# data 
label=["Income","Other Income","Total Income","Rent","Food"]
source=[0,1,2,2]
target=[2,2,3,4]
value=[10,2,6,4]


# data to dict, dict to sankey
link=dict(source=source,target=target,value=value)
node=dict(label=label,pad=50,thickness=5)
data=go.Sankey(link=link,node=node)
# plot
fig=go.Figure(data)
fig.show()


# Dynamic example
incomes={'Salary':1000,'Other Income':500}
expenses={'Rent':500,'Utilities':300,'Groceries':200,'Other Expenses':300}



label=list(incomes.keys())+['












