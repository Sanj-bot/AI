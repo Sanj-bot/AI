{
 "cells": [
  {
   "cell_type": "code",
   "execution_count": 2,
   "id": "4c96567b-4776-4649-8565-db031e5822f8",
   "metadata": {},
   "outputs": [],
   "source": [
    "import plotly.graph_objects as go # pip install plotly"
   ]
  },
  {
   "cell_type": "code",
   "execution_count": null,
   "id": "9cf5d8fd-d6d3-457c-9b02-b78e0b5d92db",
   "metadata": {},
   "outputs": [],
   "source": [
    "# data \n",
    "label=[\"Income\",\"Other Income\",\"Total Income\",\"Rent\",\"Food\"]\n",
    "source=[0,1,2,2]\n",
    "target=[2,2,3,4]\n",
    "value=[10,2,6,4]"
   ]
  },
  {
   "cell_type": "code",
   "execution_count": null,
   "id": "e0a20f87-b8e9-4d92-8c01-8ed6bfd9546d",
   "metadata": {},
   "outputs": [],
   "source": []
  },
  {
   "cell_type": "code",
   "execution_count": null,
   "id": "647f2dfc-54cb-4d90-95a7-ea85feceda35",
   "metadata": {},
   "outputs": [],
   "source": []
  },
  {
   "cell_type": "code",
   "execution_count": null,
   "id": "ebcd145f-b5d1-468e-94e2-ce95895bdc0a",
   "metadata": {},
   "outputs": [],
   "source": []
  },
  {
   "cell_type": "code",
   "execution_count": null,
   "id": "bfa591f4-ec83-4d0a-b023-8b19b25c13cc",
   "metadata": {},
   "outputs": [],
   "source": []
  },
  {
   "cell_type": "code",
   "execution_count": null,
   "id": "2488d69c-48a8-4602-8bf0-fc173d75ee8f",
   "metadata": {},
   "outputs": [],
   "source": []
  },
  {
   "cell_type": "code",
   "execution_count": null,
   "id": "ab5fd666-dee4-4e1c-b9b3-0ad67e79d328",
   "metadata": {},
   "outputs": [],
   "source": []
  }
 ],
 "metadata": {
  "kernelspec": {
   "display_name": "Python 3 (ipykernel)",
   "language": "python",
   "name": "python3"
  },
  "language_info": {
   "codemirror_mode": {
    "name": "ipython",
    "version": 3
   },
   "file_extension": ".py",
   "mimetype": "text/x-python",
   "name": "python",
   "nbconvert_exporter": "python",
   "pygments_lexer": "ipython3",
   "version": "3.11.7"
  }
 },
 "nbformat": 4,
 "nbformat_minor": 5
}
